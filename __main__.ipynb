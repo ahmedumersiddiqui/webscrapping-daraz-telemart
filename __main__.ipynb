{
 "cells": [
  {
   "cell_type": "code",
   "execution_count": 11,
   "id": "c5d93080-94ca-44b7-809a-34e997413a4c",
   "metadata": {},
   "outputs": [
    {
     "name": "stderr",
     "output_type": "stream",
     "text": [
      "C:\\Users\\Dell\\anaconda3\\lib\\site-packages\\fuzzywuzzy\\fuzz.py:11: UserWarning: Using slow pure-python SequenceMatcher. Install python-Levenshtein to remove this warning\n",
      "  warnings.warn('Using slow pure-python SequenceMatcher. Install python-Levenshtein to remove this warning')\n"
     ]
    }
   ],
   "source": [
    "from selenium import webdriver\n",
    "from selenium.webdriver.common.by import By\n",
    "from selenium.webdriver.support.ui import WebDriverWait\n",
    "from selenium.webdriver.support import expected_conditions as EC\n",
    "from time import sleep\n",
    "from amazoncaptcha import AmazonCaptcha\n",
    "import re\n",
    "import time\n",
    "import numpy as np\n",
    "import json\n",
    "import math\n",
    "import sys\n",
    "from datetime import datetime, timedelta\n",
    "import csv\n",
    "import pandas as pd\n",
    "from fuzzywuzzy import process\n",
    "\n",
    "def getElement(browser,xpath,attr=None):\n",
    "    wait = WebDriverWait(browser, 2)  # 2 seconds (adjust as needed)\n",
    "    element = None\n",
    "    try:\n",
    "        element = wait.until(EC.presence_of_element_located((By.XPATH,xpath)))\n",
    "        if attr is None:\n",
    "            return element  # Stop the loop if element is found\n",
    "        elif (attr=='text'):\n",
    "            element = element.text\n",
    "            if (element == \"\"):\n",
    "                raise Exception(\"text is empty\")\n",
    "        else:\n",
    "            element = element.get_attribute(attr)\n",
    "    except Exception as e:\n",
    "        # print(\"didn't find any element\")\n",
    "        pass\n",
    "    return element"
   ]
  },
  {
   "cell_type": "code",
   "execution_count": 8,
   "id": "7546bdd8-6128-4504-a130-8d6aefc1a8cc",
   "metadata": {},
   "outputs": [
    {
     "name": "stdout",
     "output_type": "stream",
     "text": [
      "Data has been written to iphone_prices_daraz.csv\n"
     ]
    },
    {
     "data": {
      "text/plain": [
       "{'Like New Phones - Used Apple iPhone X - Silver 256 GB - PTA Approved': 'Rs. 106,999',\n",
       " 'Like New Phones - Used Apple iPhone SE 2nd Gen (2020) - Black 64 GB - PTA Approved': 'Rs. 70,999',\n",
       " 'Like New Phones - Used Apple iPhone 8 - Gold 64 GB - PTA Approved': 'Rs. 57,999',\n",
       " 'Like New Phones - Used Apple iPhone SE 2nd Gen (2020) - White 64 GB - PTA Approved': 'Rs. 70,999',\n",
       " 'Daraz Like New Phones - Used Apple iPhone 11 Pro 64 GB Midnight Green - PTA Approved': 'Rs. 180,999',\n",
       " 'Like New Phones - Used Apple iPhone X - Space Gray 256 GB - PTA Approved': 'Rs. 106,999',\n",
       " 'iPhone 15 256GB Apple Official 1 year Mercantile Warranty': 'Rs. 436,499',\n",
       " 'iPhone 15 Pro 128 GB Apple official 1 Year Mercantile Warranty - PTA APPROVED': 'Rs. 502,499',\n",
       " 'Like New Phones - Used Apple iPhone X - Silver 64 GB - PTA Approved': 'Rs. 95,999',\n",
       " 'Like New Phones - Used Apple iPhone X - Space Gray 64 GB - PTA Approved': 'Rs. 95,999',\n",
       " 'Like New Phones - Used Apple iPhone 8 Plus - Gold 64 GB - PTA Approved': 'Rs. 73,999',\n",
       " 'Like New Phones - Used Apple iPhone 8 Plus - Space Gray 64 GB - PTA Approved': 'Rs. 73,999',\n",
       " 'Like New Phones - Used Apple iPhone SE 2nd Gen (2020) - Red 64 GB - PTA Approved': 'Rs. 68,999',\n",
       " 'APPLE IPHONE 14 PRO MAX JV BOX PACK PIN PACK 1 YEAR BRAND WARRANTY': 'Rs. 265,000',\n",
       " 'iPhone 15 128 GB Apple official 1 Year Mercantile Warranty': 'Rs. 393,999',\n",
       " 'IPHONE 11 64GB JV BOX PACK 1 YEAR BRAND WARRANTY': 'Rs. 99,990',\n",
       " 'Daraz Like New Phones - Used Apple iPhone 14 128 GB Midnight Green - PTA Approved': 'Rs. 299,999',\n",
       " 'Apple iPhone 15 Pro Max - 6.7\" Inch Display - Physical Sim & ESim - 1 Year Official Warranty (Mercantile) - PTA Approved': 'Rs. 594,999',\n",
       " 'Daraz Like New Phones - Used Apple iPhone 11 Pro 64 GB Silver - PTA Approved': 'Rs. 180,999',\n",
       " 'Apple iPhone 15 Pro - 6.1\" Inch Display - Physical Sim & ESim - PTA Approved - 1 Year Official Warranty Mercantile': 'Rs. 517,999',\n",
       " 'APPLE IPHONE 13 128GB JV BOX PACK 1 YEAR WARRANTY': 'Rs. 179,999',\n",
       " 'APPLE IPHONE 14 PRO 128GB JV BOX PACKED 1 YEAR WARRANTY': 'Rs. 245,000',\n",
       " 'Apple iPhone 15 Pro Max 5G || PTA Approved One Year Official Brand Warranty': 'Rs. 649,999',\n",
       " 'Daraz Like New Phones - Used Apple iPhone 11 Pro 64 GB Space Gray - PTA Approved': 'Rs. 180,999',\n",
       " 'Apple Iphone 12 Pro Max Gold PTA Aproved with Wireless & wire Charger.': 'Rs. 299,999',\n",
       " 'APPLE IPHONE 15 PRO 128GB JV BOX PACK 1 YEAR WARRANTY': 'Rs. 310,000',\n",
       " 'APPLE IPHONE 15 128GB JV BOX PACKED 1 YEAR BRAND WARRANTY': 'Rs. 230,000',\n",
       " 'Apple iPhone 14 Pro Maxx - 6.7\" Inch Display - Dual Physical Sim - PTA Approved - Honkong': 'Rs. 544,990',\n",
       " 'iPhone 15 Pro 5G || PTA Approved One Year Official Warranty': 'Rs. 549,999',\n",
       " 'Apple iPhone 14 Pro - 6.1\" Inch Display - Physical Sim and ESIM - PTA Approved - 1 Year Official Warranty': 'Rs. 506,990',\n",
       " 'Apple iPhone 14 - 6.1\" Inch Display - PhysicalSim and ESim - 1 Year Official Warranty - PTA Approved': 'Rs. 413,499',\n",
       " 'Like New Phones - Used Apple iPhone 13 - 128 GB Blue - PTA Approved': 'Rs. 299,999',\n",
       " 'iPhone 15 Pro  128 GB Apple official 1 year Mercantile Warranty PTA APPROVED - Natural Titanium': 'Rs. 511,499',\n",
       " 'GOOGLE PIXEL 4a5g | 6gb ram | 128gb rom | official pta approved | 4000 mAh battery | camera better than iphone 11 | kit phone | can be updated to android 14 |': 'Rs. 54,499',\n",
       " 'GOOGLE PIXEL 6 PRO | 12 GB RAM | 128 GB ROM | curve OLED display | 5001 mAh battery | 50 MP camera better than iphone 13 pro max |': 'Rs. 104,499',\n",
       " 'Google pixel 6a| Official PTA APPROVED | 6gb ram | 128gb rom | 4410 mAh battery | camera better than iphone 12 | flagship phone': 'Rs. 149,999',\n",
       " 'iPhone 7plus - official pta approved - 128gb and 256gb variant - gem for gaming and portrait photography - slightly used imported kits': 'Rs. 54,999',\n",
       " 'iPhone 15 Pro Max 256 GB Apple official 1 year Mercantile Warranty - Blue': 'Rs. 572,999',\n",
       " 'Apple iPhone 14 Pro - 6.1\" Inch Display - JV (Sim Lock)': 'Rs. 235,990',\n",
       " 'Apple iPhone 15 Pro Max - 6.7\" Inch Display - JV (Sim Lock)': 'Rs. 346,990'}"
      ]
     },
     "execution_count": 8,
     "metadata": {},
     "output_type": "execute_result"
    }
   ],
   "source": [
    "# Daraz\n",
    "\n",
    "browser = webdriver.Chrome()\n",
    "browser.get('https://www.daraz.pk/')\n",
    "\n",
    "input_search = getElement(browser,\"//input[@type='search']\")\n",
    "input_search.clear()\n",
    "input_search.send_keys(\"iphone 14 pro\")\n",
    "search_button =browser.find_element(By.XPATH, \"//button[@class='search-box__button--1oH7']\")\n",
    "search_button.click()\n",
    "sleep(2)\n",
    "products = browser.find_elements(By.XPATH,\"//div[@class='gridItem--Yd0sa']\")\n",
    "products_data = {}\n",
    "for product in products:\n",
    "    title =  getElement(product,\".//div[@class='title--wFj93']\",\"textContent\")\n",
    "    price =  getElement(product,\".//span[@class='currency--GVKjl']\",\"text\")\n",
    "    products_data[title] = price\n",
    "\n",
    "csv_file = 'iphone_prices_daraz.csv'\n",
    "\n",
    "# Writing data to CSV\n",
    "with open(csv_file, 'w', newline='') as file:\n",
    "    writer = csv.writer(file)\n",
    "    writer.writerow(['Phone Model', 'Price'])\n",
    "    for model, price in products_data.items():\n",
    "        writer.writerow([model, price])\n",
    "print(f'Data has been written to {csv_file}')\n",
    "products_data\n"
   ]
  },
  {
   "cell_type": "code",
   "execution_count": 5,
   "id": "7568a9be-5d01-4782-b386-d6f6b0192033",
   "metadata": {
    "scrolled": true
   },
   "outputs": [
    {
     "name": "stdout",
     "output_type": "stream",
     "text": [
      "Data has been written to iphone_prices_telemart.csv\n"
     ]
    },
    {
     "data": {
      "text/plain": [
       "{'Apple iPhone 14 Pro 128GB (Dual eSim) - PTA Approved - Pre Owned': 'Rs. 394,999',\n",
       " 'Apple iPhone 14 Pro 256GB (Dual eSim) - PTA Approved - Pre Owned': 'Rs. 414,999',\n",
       " 'Apple iPhone 14 Pro Max 256GB (Single + eSim) - PTA Approved - Pre Owned': 'Rs. 479,999',\n",
       " 'Apple iPhone 14 Pro Max 128GB (Dual eSim) - PTA Approved - Pre Owned': 'Rs. 429,999',\n",
       " 'Apple iPhone 14 Pro Max 256GB (Dual eSim) - PTA Approved - Pre Owned': 'Rs. 459,999',\n",
       " 'Apple iPhone 14 Pro 128GB (Single + eSim) - PTA Approved - Pre Owned': 'Rs. 409,999',\n",
       " 'Apple iPhone 14 Pro 256GB (Single + eSim) - PTA Approved - Pre Owned': 'Rs. 449,999',\n",
       " 'Apple iPhone 14 Pro Max 128GB (Single + eSim) - PTA Approved - Pre Owned': 'Rs. 449,999',\n",
       " 'Apple iPhone 14 Pro Max 512GB (Dual Esim) PTA Approved..(LLA)': 'Rs. 522,749',\n",
       " 'Apple iPhone 14 Pro Max 256GB (Dual eSIM) PTA Approved (LLA)': 'Rs. 499,999',\n",
       " 'Apple iPhone 14 Pro 512GB (Dual eSIM) PTA Approved (LLA)': 'Rs. 492,299',\n",
       " 'Apple iPhone 14 Pro 128GB (Dual eSIM) - PTA Approved (LLA)': 'Rs. 474,999',\n",
       " 'Apple iPhone 14 Pro 256GB (Dual Esim) PTA Approved (LLA)': 'Rs. 456,749',\n",
       " 'Apple iPhone 14 Pro 512GB (Dual eSIM) PTA Approved': 'Rs. 481,999',\n",
       " 'Apple iPhone 14 Pro Max 256GB (Dual eSIM) PTA Approved': 'Rs. 507,499',\n",
       " 'Apple iPhone 14 Pro Max 512GB (Dual Esim) PTA Approved (LLA)': 'Rs. 532,599',\n",
       " 'Apple iPhone 14 Pro 128GB (Dual + SIM) - PTA Approved': 'Rs. 455,749',\n",
       " 'Pitaka IPhone 14 Pro Max MagEZ Case 3 Carbon Fiber Magnetic Case': 'Rs. 25,499',\n",
       " 'Pitaka IPhone 14 Pro MagEZ Case 3 Carbon Fiber Magnetic Case': 'Rs. 20,499',\n",
       " 'Apple IPhone 14 Pro Leather Case with Magsafe': 'Rs. 19,499',\n",
       " 'Apple IPhone 14 Pro Max Silicone Case with Magsafe': 'Rs. 20,499',\n",
       " 'Apple IPhone 14 Pro Max Leather Case with Magsafe': 'Rs. 20,999',\n",
       " 'Apple IPhone 14 Pro Silicone Case with Magsafe': 'Rs. 19,499',\n",
       " 'Apple iPhone 14 Pro Max 1TB 24kt Gold Plated - PTA Approved (With Certificate Of Authenticity)': 'Rs. 960,000',\n",
       " 'Apple iPhone 14 Pro 1TB 24kt Gold Plated - PTA Approved (With Certificate Of Authenticity)': 'Rs. 925,000',\n",
       " 'Apple iPhone 14 Pro Max 1TB (Physical + eSIM) - PTA Approved': 'Rs. 709,999',\n",
       " 'Apple iPhone 14 Pro Max 256GB (Single + eSIM) - PTA Approved': 'Rs. 517,649',\n",
       " 'Apple iPhone 14 Pro Max 512GB (Physical + e-SIM) - PTA Approved': 'Rs. 634,999',\n",
       " 'Apple iPhone 14Pro Max 512GB (Physical + eSIM) - PTA Approved': 'Rs. 565,299',\n",
       " 'Apple iPhone 14 Pro Max 512GB (Single + eSIM) - PTA Approved': 'Rs. 537,949',\n",
       " 'Apple iPhone 14 Pro Max 512GB (Single + eSIM) - PTA Approved..': 'Rs. 532,899',\n",
       " 'Apple iPhone 14 Pro 256GB (Single + eSIM) - PTA Approved': 'Rs. 471,999',\n",
       " 'Apple iPhone 14 Pro 512GB (Single + eSIM) - PTA Approved': 'Rs. 492,299',\n",
       " 'Apple iPhone 14 Pro 1TB (Physical + eSIM) - PTA Approved': 'Rs. 674,999',\n",
       " 'Apple iPhone 14 Pro Max 128GB (Single + eSIM) - PTA Approved': 'Rs. 477,099',\n",
       " 'Apple iPhone 14 Pro 128GB (Single + eSIM) - PTA Approved': 'Rs. 461,999',\n",
       " 'Apple iPhone 14 Pro Max 256GB 24kt Gold Plated - PTA Approved (With Certificate Of Authenticity)': 'Rs. 835,000',\n",
       " 'Apple iPhone 14 Pro Max 512GB 24kt Gold Plated - PTA Approved (With Certificate Of Authenticity)': 'Rs. 915,000',\n",
       " 'Apple iPhone 14 Pro Max 128GB 24kt Gold Plated - PTA Approved (With Certificate Of Authenticity)': 'Rs. 795,000',\n",
       " 'Apple iPhone 14 Pro 128GB 24kt Gold Plated - PTA Approved (With Certificate Of Authenticity)': 'Rs. 765,000',\n",
       " 'Apple iPhone 14 Pro 256GB 24kt Gold Plated - PTA Approved (With Certificate Of Authenticity)': 'Rs. 800,000',\n",
       " 'Apple iPhone 14 Pro 512GB 24kt Gold Plated - PTA Approved (With Certificate Of Authenticity)': 'Rs. 890,000',\n",
       " 'Apple iPhone 14 Pro Max 512GB (Physical + eSIM) With Official Warranty': 'Rs. 699,999',\n",
       " 'Apple iPhone 14 Pro Max 1TB (Physical + eSIM) With Official Warranty': 'Rs. 724,999',\n",
       " 'Apple iPhone 14 Pro Max 256GB (Physical + eSIM) With Official Warranty': 'Rs. 557,999',\n",
       " 'Apple iPhone 14 Pro Max 128GB (Physical + eSIM) With Official Warranty': 'Rs. 519,999',\n",
       " 'Apple iPhone 14 Pro 1TB (Physical + eSIM) With Official Warranty': 'Rs. 692,999',\n",
       " 'Apple iPhone 14 Pro 256GB (Physical + eSIM) With Official Warranty': 'Rs. 554,999'}"
      ]
     },
     "execution_count": 5,
     "metadata": {},
     "output_type": "execute_result"
    }
   ],
   "source": [
    "# Telemart\n",
    "browser = webdriver.Chrome()\n",
    "browser.get('https://www.telemart.pk/')\n",
    "\n",
    "input_search = getElement(browser,\"//input[@id='search-box']\")\n",
    "input_search.clear()\n",
    "input_search.send_keys(\"iphone 14 pro\")\n",
    "search_button = browser.find_element(By.XPATH, \"//button[@class='focus:outline-none flex items-center roboto-new  leading-normal bg-orange-400 bg-hover-orange-500 rounded-r-sm px-4 text-grey-dark text-xl']\")\n",
    "search_button.click()\n",
    "sleep(4)\n",
    "products = browser.find_elements(By.XPATH,\"//div[@class='bg-white relative cursor-pointer p-0.5 col-span-3']\")\n",
    "products_data = {}\n",
    "for product in products:\n",
    "    title =  getElement(product,\".//h4\",\"text\")\n",
    "    price =  getElement(product,\".//span[@class='inline-block tracking-tighter roboto-new font-normal product-title-size mt-1 text-green-600']\",\"text\")\n",
    "    products_data[title] = price\n",
    "\n",
    "csv_file = 'iphone_prices_telemart.csv'\n",
    "\n",
    "# Writing data to CSV\n",
    "with open(csv_file, 'w', newline='') as file:\n",
    "    writer = csv.writer(file)\n",
    "    writer.writerow(['Phone Model', 'Price'])\n",
    "    for model, price in products_data.items():\n",
    "        writer.writerow([model, price])\n",
    "print(f'Data has been written to {csv_file}')\n",
    "products_data\n"
   ]
  },
  {
   "cell_type": "markdown",
   "id": "8dd5edc2",
   "metadata": {},
   "source": [
    "### Loading Data and Cleaning using Pandas"
   ]
  },
  {
   "cell_type": "code",
   "execution_count": 22,
   "id": "9c011045",
   "metadata": {},
   "outputs": [
    {
     "data": {
      "text/html": [
       "<div>\n",
       "<style scoped>\n",
       "    .dataframe tbody tr th:only-of-type {\n",
       "        vertical-align: middle;\n",
       "    }\n",
       "\n",
       "    .dataframe tbody tr th {\n",
       "        vertical-align: top;\n",
       "    }\n",
       "\n",
       "    .dataframe thead th {\n",
       "        text-align: right;\n",
       "    }\n",
       "</style>\n",
       "<table border=\"1\" class=\"dataframe\">\n",
       "  <thead>\n",
       "    <tr style=\"text-align: right;\">\n",
       "      <th></th>\n",
       "      <th>Phone Model</th>\n",
       "      <th>Price</th>\n",
       "    </tr>\n",
       "  </thead>\n",
       "  <tbody>\n",
       "    <tr>\n",
       "      <th>0</th>\n",
       "      <td>Like New Phones - Used Apple iPhone X - Silver...</td>\n",
       "      <td>Rs. 106,999</td>\n",
       "    </tr>\n",
       "    <tr>\n",
       "      <th>1</th>\n",
       "      <td>Like New Phones - Used Apple iPhone SE 2nd Gen...</td>\n",
       "      <td>Rs. 70,999</td>\n",
       "    </tr>\n",
       "    <tr>\n",
       "      <th>2</th>\n",
       "      <td>Like New Phones - Used Apple iPhone 8 - Gold 6...</td>\n",
       "      <td>Rs. 57,999</td>\n",
       "    </tr>\n",
       "    <tr>\n",
       "      <th>3</th>\n",
       "      <td>Like New Phones - Used Apple iPhone SE 2nd Gen...</td>\n",
       "      <td>Rs. 70,999</td>\n",
       "    </tr>\n",
       "    <tr>\n",
       "      <th>4</th>\n",
       "      <td>Daraz Like New Phones - Used Apple iPhone 11 P...</td>\n",
       "      <td>Rs. 180,999</td>\n",
       "    </tr>\n",
       "  </tbody>\n",
       "</table>\n",
       "</div>"
      ],
      "text/plain": [
       "                                         Phone Model        Price\n",
       "0  Like New Phones - Used Apple iPhone X - Silver...  Rs. 106,999\n",
       "1  Like New Phones - Used Apple iPhone SE 2nd Gen...   Rs. 70,999\n",
       "2  Like New Phones - Used Apple iPhone 8 - Gold 6...   Rs. 57,999\n",
       "3  Like New Phones - Used Apple iPhone SE 2nd Gen...   Rs. 70,999\n",
       "4  Daraz Like New Phones - Used Apple iPhone 11 P...  Rs. 180,999"
      ]
     },
     "execution_count": 22,
     "metadata": {},
     "output_type": "execute_result"
    }
   ],
   "source": [
    "df1=pd.read_csv('iphone_prices_daraz.csv')\n",
    "df1.head()"
   ]
  },
  {
   "cell_type": "code",
   "execution_count": 23,
   "id": "49b669c2",
   "metadata": {},
   "outputs": [
    {
     "data": {
      "text/html": [
       "<div>\n",
       "<style scoped>\n",
       "    .dataframe tbody tr th:only-of-type {\n",
       "        vertical-align: middle;\n",
       "    }\n",
       "\n",
       "    .dataframe tbody tr th {\n",
       "        vertical-align: top;\n",
       "    }\n",
       "\n",
       "    .dataframe thead th {\n",
       "        text-align: right;\n",
       "    }\n",
       "</style>\n",
       "<table border=\"1\" class=\"dataframe\">\n",
       "  <thead>\n",
       "    <tr style=\"text-align: right;\">\n",
       "      <th></th>\n",
       "      <th>Phone Model</th>\n",
       "      <th>Price</th>\n",
       "    </tr>\n",
       "  </thead>\n",
       "  <tbody>\n",
       "    <tr>\n",
       "      <th>0</th>\n",
       "      <td>Apple iPhone 14 Pro 128GB (Dual eSim) - PTA Ap...</td>\n",
       "      <td>Rs. 394,999</td>\n",
       "    </tr>\n",
       "    <tr>\n",
       "      <th>1</th>\n",
       "      <td>Apple iPhone 14 Pro 256GB (Dual eSim) - PTA Ap...</td>\n",
       "      <td>Rs. 414,999</td>\n",
       "    </tr>\n",
       "    <tr>\n",
       "      <th>2</th>\n",
       "      <td>Apple iPhone 14 Pro Max 256GB (Single + eSim) ...</td>\n",
       "      <td>Rs. 479,999</td>\n",
       "    </tr>\n",
       "    <tr>\n",
       "      <th>3</th>\n",
       "      <td>Apple iPhone 14 Pro Max 128GB (Dual eSim) - PT...</td>\n",
       "      <td>Rs. 429,999</td>\n",
       "    </tr>\n",
       "    <tr>\n",
       "      <th>4</th>\n",
       "      <td>Apple iPhone 14 Pro Max 256GB (Dual eSim) - PT...</td>\n",
       "      <td>Rs. 459,999</td>\n",
       "    </tr>\n",
       "  </tbody>\n",
       "</table>\n",
       "</div>"
      ],
      "text/plain": [
       "                                         Phone Model        Price\n",
       "0  Apple iPhone 14 Pro 128GB (Dual eSim) - PTA Ap...  Rs. 394,999\n",
       "1  Apple iPhone 14 Pro 256GB (Dual eSim) - PTA Ap...  Rs. 414,999\n",
       "2  Apple iPhone 14 Pro Max 256GB (Single + eSim) ...  Rs. 479,999\n",
       "3  Apple iPhone 14 Pro Max 128GB (Dual eSim) - PT...  Rs. 429,999\n",
       "4  Apple iPhone 14 Pro Max 256GB (Dual eSim) - PT...  Rs. 459,999"
      ]
     },
     "execution_count": 23,
     "metadata": {},
     "output_type": "execute_result"
    }
   ],
   "source": [
    "df2=pd.read_csv('iphone_prices_telemart.csv')\n",
    "df2.head()"
   ]
  },
  {
   "cell_type": "code",
   "execution_count": 24,
   "id": "4453cab8",
   "metadata": {},
   "outputs": [
    {
     "data": {
      "text/html": [
       "<div>\n",
       "<style scoped>\n",
       "    .dataframe tbody tr th:only-of-type {\n",
       "        vertical-align: middle;\n",
       "    }\n",
       "\n",
       "    .dataframe tbody tr th {\n",
       "        vertical-align: top;\n",
       "    }\n",
       "\n",
       "    .dataframe thead th {\n",
       "        text-align: right;\n",
       "    }\n",
       "</style>\n",
       "<table border=\"1\" class=\"dataframe\">\n",
       "  <thead>\n",
       "    <tr style=\"text-align: right;\">\n",
       "      <th></th>\n",
       "      <th>Phone Model</th>\n",
       "      <th>Price</th>\n",
       "    </tr>\n",
       "  </thead>\n",
       "  <tbody>\n",
       "    <tr>\n",
       "      <th>0</th>\n",
       "      <td>Like New Phones - Used Apple iPhone X - Silver...</td>\n",
       "      <td>Rs. 106,999</td>\n",
       "    </tr>\n",
       "    <tr>\n",
       "      <th>1</th>\n",
       "      <td>Like New Phones - Used Apple iPhone SE 2nd Gen...</td>\n",
       "      <td>Rs. 70,999</td>\n",
       "    </tr>\n",
       "    <tr>\n",
       "      <th>2</th>\n",
       "      <td>Like New Phones - Used Apple iPhone 8 - Gold 6...</td>\n",
       "      <td>Rs. 57,999</td>\n",
       "    </tr>\n",
       "    <tr>\n",
       "      <th>3</th>\n",
       "      <td>Like New Phones - Used Apple iPhone SE 2nd Gen...</td>\n",
       "      <td>Rs. 70,999</td>\n",
       "    </tr>\n",
       "    <tr>\n",
       "      <th>4</th>\n",
       "      <td>Daraz Like New Phones - Used Apple iPhone 11 P...</td>\n",
       "      <td>Rs. 180,999</td>\n",
       "    </tr>\n",
       "  </tbody>\n",
       "</table>\n",
       "</div>"
      ],
      "text/plain": [
       "                                         Phone Model        Price\n",
       "0  Like New Phones - Used Apple iPhone X - Silver...  Rs. 106,999\n",
       "1  Like New Phones - Used Apple iPhone SE 2nd Gen...   Rs. 70,999\n",
       "2  Like New Phones - Used Apple iPhone 8 - Gold 6...   Rs. 57,999\n",
       "3  Like New Phones - Used Apple iPhone SE 2nd Gen...   Rs. 70,999\n",
       "4  Daraz Like New Phones - Used Apple iPhone 11 P...  Rs. 180,999"
      ]
     },
     "execution_count": 24,
     "metadata": {},
     "output_type": "execute_result"
    }
   ],
   "source": [
    "df= df1.drop_duplicates()\n",
    "daraz_data=df.dropna()\n",
    "daraz_data.head()"
   ]
  },
  {
   "cell_type": "code",
   "execution_count": 25,
   "id": "0459c885",
   "metadata": {},
   "outputs": [
    {
     "data": {
      "text/html": [
       "<div>\n",
       "<style scoped>\n",
       "    .dataframe tbody tr th:only-of-type {\n",
       "        vertical-align: middle;\n",
       "    }\n",
       "\n",
       "    .dataframe tbody tr th {\n",
       "        vertical-align: top;\n",
       "    }\n",
       "\n",
       "    .dataframe thead th {\n",
       "        text-align: right;\n",
       "    }\n",
       "</style>\n",
       "<table border=\"1\" class=\"dataframe\">\n",
       "  <thead>\n",
       "    <tr style=\"text-align: right;\">\n",
       "      <th></th>\n",
       "      <th>Phone Model</th>\n",
       "      <th>Price</th>\n",
       "    </tr>\n",
       "  </thead>\n",
       "  <tbody>\n",
       "    <tr>\n",
       "      <th>0</th>\n",
       "      <td>Apple iPhone 14 Pro 128GB (Dual eSim) - PTA Ap...</td>\n",
       "      <td>Rs. 394,999</td>\n",
       "    </tr>\n",
       "    <tr>\n",
       "      <th>1</th>\n",
       "      <td>Apple iPhone 14 Pro 256GB (Dual eSim) - PTA Ap...</td>\n",
       "      <td>Rs. 414,999</td>\n",
       "    </tr>\n",
       "    <tr>\n",
       "      <th>2</th>\n",
       "      <td>Apple iPhone 14 Pro Max 256GB (Single + eSim) ...</td>\n",
       "      <td>Rs. 479,999</td>\n",
       "    </tr>\n",
       "    <tr>\n",
       "      <th>3</th>\n",
       "      <td>Apple iPhone 14 Pro Max 128GB (Dual eSim) - PT...</td>\n",
       "      <td>Rs. 429,999</td>\n",
       "    </tr>\n",
       "    <tr>\n",
       "      <th>4</th>\n",
       "      <td>Apple iPhone 14 Pro Max 256GB (Dual eSim) - PT...</td>\n",
       "      <td>Rs. 459,999</td>\n",
       "    </tr>\n",
       "  </tbody>\n",
       "</table>\n",
       "</div>"
      ],
      "text/plain": [
       "                                         Phone Model        Price\n",
       "0  Apple iPhone 14 Pro 128GB (Dual eSim) - PTA Ap...  Rs. 394,999\n",
       "1  Apple iPhone 14 Pro 256GB (Dual eSim) - PTA Ap...  Rs. 414,999\n",
       "2  Apple iPhone 14 Pro Max 256GB (Single + eSim) ...  Rs. 479,999\n",
       "3  Apple iPhone 14 Pro Max 128GB (Dual eSim) - PT...  Rs. 429,999\n",
       "4  Apple iPhone 14 Pro Max 256GB (Dual eSim) - PT...  Rs. 459,999"
      ]
     },
     "execution_count": 25,
     "metadata": {},
     "output_type": "execute_result"
    }
   ],
   "source": [
    "df3= df2.drop_duplicates()\n",
    "telemart_data=df3.dropna()\n",
    "telemart_data.head()"
   ]
  },
  {
   "cell_type": "code",
   "execution_count": 38,
   "id": "72b45f8f",
   "metadata": {},
   "outputs": [
    {
     "name": "stdout",
     "output_type": "stream",
     "text": [
      "Apple iPhone 14 Pro Max\n",
      "Recommendation: Buy from Telemart\n"
     ]
    }
   ],
   "source": [
    "def fuzzy_search(row):\n",
    "    matches = process.extractOne(search_term, row['Phone Model'])\n",
    "    return pd.Series([matches[0], matches[1]])\n",
    "\n",
    "search_term = 'Apple iPhone 14 Pro Max' \n",
    "\n",
    "matches_df1 = daraz_data.apply(fuzzy_search, axis=1)\n",
    "matches_df2 = telemart_data.apply(fuzzy_search, axis=1)\n",
    "\n",
    "best_match_df1 = matches_df1.loc[matches_df1[1].idxmax()]\n",
    "best_match_df2 = matches_df2.loc[matches_df2[1].idxmax()]\n",
    "\n",
    "\n",
    "print(search_term)\n",
    "if best_match_df1[1] >= best_match_df2[1]:\n",
    "    print(\"Recommendation: Buy from Telemart\")\n",
    "else:\n",
    "    print(\"Recommendation: Buy from Daraz\")"
   ]
  },
  {
   "cell_type": "code",
   "execution_count": null,
   "id": "67323833",
   "metadata": {},
   "outputs": [],
   "source": []
  }
 ],
 "metadata": {
  "kernelspec": {
   "display_name": "Python 3 (ipykernel)",
   "language": "python",
   "name": "python3"
  },
  "language_info": {
   "codemirror_mode": {
    "name": "ipython",
    "version": 3
   },
   "file_extension": ".py",
   "mimetype": "text/x-python",
   "name": "python",
   "nbconvert_exporter": "python",
   "pygments_lexer": "ipython3",
   "version": "3.9.7"
  }
 },
 "nbformat": 4,
 "nbformat_minor": 5
}
